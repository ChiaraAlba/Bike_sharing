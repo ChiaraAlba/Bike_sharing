{
  "nbformat": 4,
  "nbformat_minor": 0,
  "metadata": {
    "colab": {
      "name": "ex_solution.ipynb",
      "provenance": [],
      "collapsed_sections": [],
      "include_colab_link": true
    },
    "kernelspec": {
      "name": "python3",
      "display_name": "Python 3"
    }
  },
  "cells": [
    {
      "cell_type": "markdown",
      "metadata": {
        "id": "view-in-github",
        "colab_type": "text"
      },
      "source": [
        "<a href=\"https://colab.research.google.com/github/ChiaraAlba/Bike_sharing/blob/master/ex_solution.ipynb\" target=\"_parent\"><img src=\"https://colab.research.google.com/assets/colab-badge.svg\" alt=\"Open In Colab\"/></a>"
      ]
    },
    {
      "cell_type": "markdown",
      "metadata": {
        "id": "LOSaNI7yOVNt",
        "colab_type": "text"
      },
      "source": [
        "# Exercise: Maximum contiguous subarray\n",
        "\n",
        "Write a function that finds the contiguous subarray within an array (containing at least one number), read in input, which has the greatest sum. The function should return the sub-array and the corresponding sum. \n",
        "\n",
        "Which is the complexity of your solution? Can you do a solution with linear complexity?\n",
        "\n",
        "## Solution\n",
        "\n",
        "I need to import numpy library, to work with numpy arrays."
      ]
    },
    {
      "cell_type": "code",
      "metadata": {
        "id": "9P5IBb_hORMO",
        "colab_type": "code",
        "colab": {}
      },
      "source": [
        "import numpy as np"
      ],
      "execution_count": 0,
      "outputs": []
    },
    {
      "cell_type": "markdown",
      "metadata": {
        "id": "rX_86g8RTe5O",
        "colab_type": "text"
      },
      "source": [
        "The function `max_subarray` finds the contiguous subarray within the given array with the greatest sum.\n",
        "\n",
        "The solution has linear complexity, in fact it loops through the array only once."
      ]
    },
    {
      "cell_type": "code",
      "metadata": {
        "id": "2NUHLZg2OUWB",
        "colab_type": "code",
        "colab": {}
      },
      "source": [
        "def max_subarray(array):\n",
        "    \"\"\"\n",
        "    This function finds the contiguous subarray within an array, which has the greatest sum.\n",
        "    \n",
        "    INPUT:    array: numpy numeric array containing at least one integer.\n",
        "    OUTPUT:   {'greatest sum': float, 'subarray': list}: dict object containing the greatest sum \n",
        "              and the corresponding subarray.\n",
        "    \"\"\"\n",
        "    \n",
        "    if all(array <= 0):   # if the array comprises only negative values, then the outcome is the maximum number in the array\n",
        "        best_sum = np.max(array)\n",
        "        best_subarray = [np.max(array)]\n",
        "    else:\n",
        "        best_sum = 0\n",
        "        best_subarray = []\n",
        "        temp = best_sum\n",
        "        temp_subarray = []\n",
        "        for value in array:\n",
        "            temp += value\n",
        "            temp_subarray  += [value]\n",
        "            if temp > best_sum:\n",
        "                best_sum = temp.round(2)\n",
        "                best_subarray = [x for x in temp_subarray]\n",
        "            elif temp <= 0:\n",
        "                temp = 0\n",
        "                temp_subarray = []\n",
        "    return {'greatest sum': best_sum, 'subarray': best_subarray}\n",
        "            "
      ],
      "execution_count": 0,
      "outputs": []
    },
    {
      "cell_type": "code",
      "metadata": {
        "id": "no0pM4g8OnkD",
        "colab_type": "code",
        "colab": {}
      },
      "source": [
        "def test_max_subarray(array, dict_sol):\n",
        "    assert max_subarray(array) == dict_sol, f\"\"\"wrong: {max_subarray(array)} should have been {dict_sol}\"\"\"\n",
        "    print(\"test passed!\")"
      ],
      "execution_count": 0,
      "outputs": []
    },
    {
      "cell_type": "code",
      "metadata": {
        "id": "4PXMHGV7OoNZ",
        "colab_type": "code",
        "outputId": "12f3c673-a87e-45c2-e88d-40b28485a5fd",
        "colab": {
          "base_uri": "https://localhost:8080/",
          "height": 141
        }
      },
      "source": [
        "testing = ((np.array([0]), {'greatest sum': 0, 'subarray': [0]}),   # array containing one integer\n",
        "           (np.array([-9, -4, -10.65, -0.51]), {'greatest sum': -0.51, 'subarray': [-0.51]}), # array containing only negative values \n",
        "           (np.array([ -2, 1, -3, 4, -1, 2, 1, -5, 4]), {'greatest sum': 6, 'subarray': [4, -1, 2, 1]}), # generic numeric arrays \n",
        "           (np.array([ -2, 1, -3, 4, -1, 2, 1, -9, 4, -1, 2, 1]), {'greatest sum': 6, 'subarray': [4, -1, 2, 1]}),\n",
        "           (np.array([-1, 3, 4, -5, 8, -2, -5]), {'greatest sum': 10, 'subarray': [3, 4, -5, 8]}), \n",
        "           (np.array([-1, 3, 4, -5, 8]), {'greatest sum': 10, 'subarray': [3, 4, -5, 8]}),\n",
        "           (np.array([-2.0, 3.7, 4.9]), {'greatest sum': 8.6, 'subarray': [3.7, 4.9]}))\n",
        "\n",
        "for t in testing:\n",
        "    test_max_subarray(*t)"
      ],
      "execution_count": 4,
      "outputs": [
        {
          "output_type": "stream",
          "text": [
            "test passed!\n",
            "test passed!\n",
            "test passed!\n",
            "test passed!\n",
            "test passed!\n",
            "test passed!\n",
            "test passed!\n"
          ],
          "name": "stdout"
        }
      ]
    }
  ]
}